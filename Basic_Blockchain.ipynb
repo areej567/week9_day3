{
  "nbformat": 4,
  "nbformat_minor": 0,
  "metadata": {
    "colab": {
      "name": "Basic Blockchain.ipynb",
      "provenance": []
    },
    "kernelspec": {
      "name": "python3",
      "display_name": "Python 3"
    },
    "language_info": {
      "name": "python"
    }
  },
  "cells": [
    {
      "cell_type": "code",
      "source": [
        "pip install hashlib"
      ],
      "metadata": {
        "id": "QyMHu5qj0vUw"
      },
      "execution_count": null,
      "outputs": []
    },
    {
      "cell_type": "code",
      "source": [
        "import json\n",
        "import hashlib"
      ],
      "metadata": {
        "id": "C6hhc-tg1BId"
      },
      "execution_count": 41,
      "outputs": []
    },
    {
      "cell_type": "code",
      "source": [
        "tx_1 = {\n",
        "   \"addr_from\": \"3J98t1WpEZ73CNmQviecrnyiWrnqRhWNLy\",\n",
        "   \"addr_to\": \"1BvBMSEYstWetqTFn5Au4m4GFg7xJaNVN2\",   \n",
        "   \"amount\": 99.00\n",
        "}     "
      ],
      "metadata": {
        "id": "XEWsrMDIjM9D"
      },
      "execution_count": 2,
      "outputs": []
    },
    {
      "cell_type": "markdown",
      "source": [
        "# Block Class"
      ],
      "metadata": {
        "id": "CZvmdrzm96Zv"
      }
    },
    {
      "cell_type": "code",
      "execution_count": 4,
      "metadata": {
        "id": "Icr5I91gaabc"
      },
      "outputs": [],
      "source": [
        "class Block(): \n",
        "  def __init__(self,\n",
        "               index:int = 0,\n",
        "               transactions:list = [],\n",
        "               timestamp:int = 0, \n",
        "               cur_hash:str = \"\",\n",
        "               previous_hash:str = \"\",\n",
        "               nonce:int = 0):\n",
        "    \n",
        "    self.index:int = index\n",
        "    self.transactions:list = transactions\n",
        "    self.timestamp = timestamp\n",
        "    self.current_hash:str = cur_hash\n",
        "    self.previous_hash:str = previous_hash\n",
        "    self.nonce:int = nonce\n",
        "\n",
        "  def compute_hash(self) -> str:\n",
        "\n",
        "      \n",
        "      block_string = json.dumps(self.__dict__, sort_keys=True)\n",
        "      return hashlib.sha256(block_string.encode()).hexdigest()\n"
      ]
    },
    {
      "cell_type": "markdown",
      "source": [
        "# BlockChain Class"
      ],
      "metadata": {
        "id": "sesez50p-HGk"
      }
    },
    {
      "cell_type": "code",
      "source": [
        "class Blockchain():     \n",
        "   def __init__(self):\n",
        "       self.unconfirmed_transactions:List[dict]= []\n",
        "       self.chain:List[Block] = []\n",
        "       self.difficulty:int = 2\n",
        "       self.create_genesis_block()\n",
        "\n",
        "   def create_genesis_block(self):\n",
        "        genesis_block = Block(0, [], time.time(), \"0\")\n",
        "        genesis_block.hash = genesis_block.compute_hash()\n",
        "        self.chain.append(genesis_block)\n",
        "\n",
        "      "
      ],
      "metadata": {
        "id": "dJm17HhRgrGF"
      },
      "execution_count": 5,
      "outputs": []
    },
    {
      "cell_type": "code",
      "source": [
        "def get_last_block(self):\n",
        "    return self.chain[-1]"
      ],
      "metadata": {
        "id": "N5t_HNAf9Wkt"
      },
      "execution_count": 7,
      "outputs": []
    },
    {
      "cell_type": "code",
      "source": [
        "def proof_of_work(self, block:Block) -> str:\n",
        "         compute_hash = block.compute_hash()\n",
        "         while not  computed_hash.startswith('0' * self.difficulty):\n",
        "           block.nonce += 1\n",
        "           computed_hash = block.compute_hash()\n",
        "           return  computed_hash"
      ],
      "metadata": {
        "id": "MyaBLRmp9K0D"
      },
      "execution_count": 8,
      "outputs": []
    },
    {
      "cell_type": "code",
      "source": [
        "def is_valid_proof(self, block:Block, block_hash:str) -> bool:\n",
        "        return (block_hash.startswith('0' * self.difficulty) and \n",
        "        block_hash == block.compute_hash())"
      ],
      "metadata": {
        "id": "nWd0bkvv9C20"
      },
      "execution_count": 11,
      "outputs": []
    },
    {
      "cell_type": "code",
      "source": [
        "def add_block(self, block:Block, proof:str) -> bool:\n",
        "         last_block = self.get_last_block()\n",
        "         last_block.hash\n",
        "\n",
        "         if last_block.hash != block.previous_hash:\n",
        "           return False\n",
        "\n",
        "         if not self.is_valid_proof(block, proof):\n",
        "           return False\n",
        "\n",
        "         block.hash = proof\n",
        "         self.chain.append(block)\n",
        "\n",
        "         return True"
      ],
      "metadata": {
        "id": "svlq_SMW826q"
      },
      "execution_count": 12,
      "outputs": []
    },
    {
      "cell_type": "code",
      "source": [
        "def add_new_transactions(self, transactions:dict) -> None:\n",
        "      self.unconfirmed_transactions.append(transaction)"
      ],
      "metadata": {
        "id": "HVpHR0h_8f-5"
      },
      "execution_count": 13,
      "outputs": []
    },
    {
      "cell_type": "code",
      "source": [
        "def mine(self) -> int:\n",
        "    \n",
        "        if len (self.unconfirmed_transactions)<1:\n",
        "            return -1\n",
        "        last_block = self.get_last_block()\n",
        "        self.unconfirmed_transactions.append(tx_1)\n",
        "        \n",
        "        new_block = Block(index=last_block.index + 1,\n",
        "                          transactions=self.unconfirmed_transactions,\n",
        "                          timestamp=time.time(),\n",
        "                          previous_hash=last_block.hash)\n",
        "        \n",
        "        proof = self.proof_of_work(new_block)\n",
        "        \n",
        "        if not self.add_block(new_block, proof):\n",
        "            return -1\n",
        "        \n",
        "        self.unconfirmed_transactions = []\n",
        "        return new_block.index"
      ],
      "metadata": {
        "id": "3vKe3RqRgtQa"
      },
      "execution_count": 19,
      "outputs": []
    },
    {
      "cell_type": "code",
      "source": [
        ""
      ],
      "metadata": {
        "id": "D8JO4W4Uekx6"
      },
      "execution_count": null,
      "outputs": []
    }
  ]
}